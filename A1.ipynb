{
 "cells": [
  {
   "cell_type": "code",
   "execution_count": 5,
   "metadata": {},
   "outputs": [
    {
     "name": "stderr",
     "output_type": "stream",
     "text": [
      "Updating HTML index of packages in '.Library'\n",
      "Making 'packages.html' ... done\n"
     ]
    }
   ],
   "source": [
    "install.packages(\"readODS\")"
   ]
  },
  {
   "cell_type": "code",
   "execution_count": 6,
   "metadata": {},
   "outputs": [],
   "source": [
    "library(\"readODS\")"
   ]
  },
  {
   "cell_type": "code",
   "execution_count": 11,
   "metadata": {},
   "outputs": [
    {
     "name": "stderr",
     "output_type": "stream",
     "text": [
      "Parsed with column specification:\n",
      "cols(\n",
      "  `Solar Radiation` = col_double(),\n",
      "  `Plant Biomass` = col_double()\n",
      ")\n"
     ]
    }
   ],
   "source": [
    "analysis = read_ods(\"/home/isaac/R Projects, STAC67/Assignment 1.ods\", col_names = TRUE)"
   ]
  },
  {
   "cell_type": "code",
   "execution_count": 13,
   "metadata": {},
   "outputs": [
    {
     "data": {
      "text/html": [
       "<table>\n",
       "<thead><tr><th scope=col>Solar Radiation</th><th scope=col>Plant Biomass</th></tr></thead>\n",
       "<tbody>\n",
       "\t<tr><td> 29.7</td><td> 16.6</td></tr>\n",
       "\t<tr><td> 68.4</td><td> 49.1</td></tr>\n",
       "\t<tr><td>120.7</td><td>121.7</td></tr>\n",
       "\t<tr><td>217.2</td><td>219.6</td></tr>\n",
       "\t<tr><td>313.5</td><td>375.5</td></tr>\n",
       "\t<tr><td>419.1</td><td>570.8</td></tr>\n",
       "\t<tr><td>535.9</td><td>648.2</td></tr>\n",
       "\t<tr><td>641.5</td><td>755.6</td></tr>\n",
       "</tbody>\n",
       "</table>\n"
      ],
      "text/latex": [
       "\\begin{tabular}{r|ll}\n",
       " Solar Radiation & Plant Biomass\\\\\n",
       "\\hline\n",
       "\t  29.7 &  16.6\\\\\n",
       "\t  68.4 &  49.1\\\\\n",
       "\t 120.7 & 121.7\\\\\n",
       "\t 217.2 & 219.6\\\\\n",
       "\t 313.5 & 375.5\\\\\n",
       "\t 419.1 & 570.8\\\\\n",
       "\t 535.9 & 648.2\\\\\n",
       "\t 641.5 & 755.6\\\\\n",
       "\\end{tabular}\n"
      ],
      "text/markdown": [
       "\n",
       "Solar Radiation | Plant Biomass | \n",
       "|---|---|---|---|---|---|---|---|\n",
       "|  29.7 |  16.6 | \n",
       "|  68.4 |  49.1 | \n",
       "| 120.7 | 121.7 | \n",
       "| 217.2 | 219.6 | \n",
       "| 313.5 | 375.5 | \n",
       "| 419.1 | 570.8 | \n",
       "| 535.9 | 648.2 | \n",
       "| 641.5 | 755.6 | \n",
       "\n",
       "\n"
      ],
      "text/plain": [
       "  Solar Radiation Plant Biomass\n",
       "1  29.7            16.6        \n",
       "2  68.4            49.1        \n",
       "3 120.7           121.7        \n",
       "4 217.2           219.6        \n",
       "5 313.5           375.5        \n",
       "6 419.1           570.8        \n",
       "7 535.9           648.2        \n",
       "8 641.5           755.6        "
      ]
     },
     "metadata": {},
     "output_type": "display_data"
    }
   ],
   "source": [
    "analysis"
   ]
  },
  {
   "cell_type": "code",
   "execution_count": 14,
   "metadata": {
    "collapsed": true
   },
   "outputs": [],
   "source": [
    "x = analysis[,1]"
   ]
  },
  {
   "cell_type": "code",
   "execution_count": 15,
   "metadata": {
    "collapsed": true
   },
   "outputs": [],
   "source": [
    "y = analysis[,2]"
   ]
  },
  {
   "cell_type": "code",
   "execution_count": 16,
   "metadata": {},
   "outputs": [
    {
     "data": {
      "text/html": [
       "<ol class=list-inline>\n",
       "\t<li>29.7</li>\n",
       "\t<li>68.4</li>\n",
       "\t<li>120.7</li>\n",
       "\t<li>217.2</li>\n",
       "\t<li>313.5</li>\n",
       "\t<li>419.1</li>\n",
       "\t<li>535.9</li>\n",
       "\t<li>641.5</li>\n",
       "</ol>\n"
      ],
      "text/latex": [
       "\\begin{enumerate*}\n",
       "\\item 29.7\n",
       "\\item 68.4\n",
       "\\item 120.7\n",
       "\\item 217.2\n",
       "\\item 313.5\n",
       "\\item 419.1\n",
       "\\item 535.9\n",
       "\\item 641.5\n",
       "\\end{enumerate*}\n"
      ],
      "text/markdown": [
       "1. 29.7\n",
       "2. 68.4\n",
       "3. 120.7\n",
       "4. 217.2\n",
       "5. 313.5\n",
       "6. 419.1\n",
       "7. 535.9\n",
       "8. 641.5\n",
       "\n",
       "\n"
      ],
      "text/plain": [
       "[1]  29.7  68.4 120.7 217.2 313.5 419.1 535.9 641.5"
      ]
     },
     "metadata": {},
     "output_type": "display_data"
    }
   ],
   "source": [
    "x"
   ]
  },
  {
   "cell_type": "code",
   "execution_count": 17,
   "metadata": {
    "collapsed": true
   },
   "outputs": [],
   "source": [
    "par(mfrow=c(3,1))"
   ]
  },
  {
   "cell_type": "code",
   "execution_count": 26,
   "metadata": {},
   "outputs": [
    {
     "data": {
      "image/png": "[encoded data removed]",
      "text/plain": [
       "plot without title"
      ]
     },
     "metadata": {},
     "output_type": "display_data"
    }
   ],
   "source": [
    "plot(x,y)\n",
    "lines(x,y)"
   ]
  },
  {
   "cell_type": "code",
   "execution_count": 19,
   "metadata": {
    "collapsed": true
   },
   "outputs": [],
   "source": [
    "fit = lm(y~x)"
   ]
  },
  {
   "cell_type": "code",
   "execution_count": 20,
   "metadata": {},
   "outputs": [
    {
     "data": {
      "text/plain": [
       "\n",
       "Call:\n",
       "lm(formula = y ~ x)\n",
       "\n",
       "Residuals:\n",
       "    Min      1Q  Median      3Q     Max \n",
       "-31.052 -14.738  -4.175   5.488  66.428 \n",
       "\n",
       "Coefficients:\n",
       "             Estimate Std. Error t value Pr(>|t|)    \n",
       "(Intercept) -27.56895   19.84220  -1.389    0.214    \n",
       "x             1.26925    0.05503  23.063 4.36e-07 ***\n",
       "---\n",
       "Signif. codes:  0 ‘***’ 0.001 ‘**’ 0.01 ‘*’ 0.05 ‘.’ 0.1 ‘ ’ 1\n",
       "\n",
       "Residual standard error: 32.65 on 6 degrees of freedom\n",
       "Multiple R-squared:  0.9888,\tAdjusted R-squared:  0.987 \n",
       "F-statistic: 531.9 on 1 and 6 DF,  p-value: 4.355e-07\n"
      ]
     },
     "metadata": {},
     "output_type": "display_data"
    }
   ],
   "source": [
    "summary(fit)"
   ]
  },
  {
   "cell_type": "code",
   "execution_count": 22,
   "metadata": {},
   "outputs": [],
   "source": [
    "y_hat = predict.lm(fit)"
   ]
  },
  {
   "cell_type": "code",
   "execution_count": 27,
   "metadata": {},
   "outputs": [
    {
     "data": {
      "image/png": "[encoded data removed]",
      "text/plain": [
       "plot without title"
      ]
     },
     "metadata": {},
     "output_type": "display_data"
    }
   ],
   "source": [
    "plot(x,y_hat)\n",
    "lines(x, y_hat)"
   ]
  },
  {
   "cell_type": "code",
   "execution_count": 28,
   "metadata": {},
   "outputs": [
    {
     "data": {
      "text/html": [
       "<table>\n",
       "<thead><tr><th></th><th scope=col>Df</th><th scope=col>Sum Sq</th><th scope=col>Mean Sq</th><th scope=col>F value</th><th scope=col>Pr(&gt;F)</th></tr></thead>\n",
       "<tbody>\n",
       "\t<tr><th scope=row>x</th><td>1           </td><td>567032.58   </td><td>567032.579  </td><td>531.9022    </td><td>4.355307e-07</td></tr>\n",
       "\t<tr><th scope=row>Residuals</th><td>6           </td><td>  6396.28   </td><td>  1066.047  </td><td>      NA    </td><td>          NA</td></tr>\n",
       "</tbody>\n",
       "</table>\n"
      ],
      "text/latex": [
       "\\begin{tabular}{r|lllll}\n",
       "  & Df & Sum Sq & Mean Sq & F value & Pr(>F)\\\\\n",
       "\\hline\n",
       "\tx & 1            & 567032.58    & 567032.579   & 531.9022     & 4.355307e-07\\\\\n",
       "\tResiduals & 6            &   6396.28    &   1066.047   &       NA     &           NA\\\\\n",
       "\\end{tabular}\n"
      ],
      "text/markdown": [
       "\n",
       "| <!--/--> | Df | Sum Sq | Mean Sq | F value | Pr(>F) | \n",
       "|---|---|\n",
       "| x | 1            | 567032.58    | 567032.579   | 531.9022     | 4.355307e-07 | \n",
       "| Residuals | 6            |   6396.28    |   1066.047   |       NA     |           NA | \n",
       "\n",
       "\n"
      ],
      "text/plain": [
       "          Df Sum Sq    Mean Sq    F value  Pr(>F)      \n",
       "x         1  567032.58 567032.579 531.9022 4.355307e-07\n",
       "Residuals 6    6396.28   1066.047       NA           NA"
      ]
     },
     "metadata": {},
     "output_type": "display_data"
    }
   ],
   "source": [
    "anova(fit)"
   ]
  },
  {
   "cell_type": "code",
   "execution_count": 29,
   "metadata": {},
   "outputs": [
    {
     "data": {
      "image/png": "[encoded data removed]",
      "text/plain": [
       "plot without title"
      ]
     },
     "metadata": {},
     "output_type": "display_data"
    }
   ],
   "source": [
    "plot(fitted(fit), residuals(fit))"
   ]
  },
  {
   "cell_type": "code",
   "execution_count": 30,
   "metadata": {},
   "outputs": [
    {
     "data": {
      "image/png": "[encoded data removed]",
      "text/plain": [
       "Plot with title “Normal Q-Q Plot”"
      ]
     },
     "metadata": {},
     "output_type": "display_data"
    }
   ],
   "source": [
    "qqnorm(residuals(fit))"
   ]
  },
  {
   "cell_type": "code",
   "execution_count": 31,
   "metadata": {
    "collapsed": true
   },
   "outputs": [],
   "source": [
    "x_0 = data.frame(x = 600)"
   ]
  },
  {
   "cell_type": "code",
   "execution_count": 33,
   "metadata": {},
   "outputs": [
    {
     "data": {
      "text/html": [
       "<strong>1:</strong> 733.978775744463"
      ],
      "text/latex": [
       "\\textbf{1:} 733.978775744463"
      ],
      "text/markdown": [
       "**1:** 733.978775744463"
      ],
      "text/plain": [
       "       1 \n",
       "733.9788 "
      ]
     },
     "metadata": {},
     "output_type": "display_data"
    }
   ],
   "source": [
    "predict(fit, x_0)"
   ]
  },
  {
   "cell_type": "code",
   "execution_count": 34,
   "metadata": {},
   "outputs": [
    {
     "data": {
      "text/html": [
       "<table>\n",
       "<thead><tr><th></th><th scope=col>fit</th><th scope=col>lwr</th><th scope=col>upr</th></tr></thead>\n",
       "<tbody>\n",
       "\t<tr><th scope=row>1</th><td>733.9788</td><td>683.9369</td><td>784.0207</td></tr>\n",
       "</tbody>\n",
       "</table>\n"
      ],
      "text/latex": [
       "\\begin{tabular}{r|lll}\n",
       "  & fit & lwr & upr\\\\\n",
       "\\hline\n",
       "\t1 & 733.9788 & 683.9369 & 784.0207\\\\\n",
       "\\end{tabular}\n"
      ],
      "text/markdown": [
       "\n",
       "| <!--/--> | fit | lwr | upr | \n",
       "|---|\n",
       "| 1 | 733.9788 | 683.9369 | 784.0207 | \n",
       "\n",
       "\n"
      ],
      "text/plain": [
       "  fit      lwr      upr     \n",
       "1 733.9788 683.9369 784.0207"
      ]
     },
     "metadata": {},
     "output_type": "display_data"
    }
   ],
   "source": [
    "predict(fit, x_0, interval = \"confidence\", level = 0.95)"
   ]
  },
  {
   "cell_type": "code",
   "execution_count": null,
   "metadata": {
    "collapsed": true
   },
   "outputs": [],
   "source": []
  }
 ],
 "metadata": {
  "kernelspec": {
   "display_name": "R",
   "language": "R",
   "name": "ir"
  },
  "language_info": {
   "codemirror_mode": "r",
   "file_extension": ".r",
   "mimetype": "text/x-r-source",
   "name": "R",
   "pygments_lexer": "r",
   "version": "3.4.2"
  }
 },
 "nbformat": 4,
 "nbformat_minor": 2
}
