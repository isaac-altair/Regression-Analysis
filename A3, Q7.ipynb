{
 "cells": [
  {
   "cell_type": "code",
   "execution_count": 1,
   "metadata": {
    "collapsed": true
   },
   "outputs": [],
   "source": [
    "satisfaction = read.table(\"/home/isaac/R Projects, STAC67/A2, Q5\")"
   ]
  },
  {
   "cell_type": "code",
   "execution_count": 2,
   "metadata": {},
   "outputs": [
    {
     "data": {
      "text/html": [
       "<table>\n",
       "<thead><tr><th scope=col>V1</th><th scope=col>V2</th><th scope=col>V3</th><th scope=col>V4</th></tr></thead>\n",
       "<tbody>\n",
       "\t<tr><td>48 </td><td>50 </td><td>51 </td><td>2.3</td></tr>\n",
       "\t<tr><td>57 </td><td>36 </td><td>46 </td><td>2.3</td></tr>\n",
       "\t<tr><td>66 </td><td>40 </td><td>48 </td><td>2.2</td></tr>\n",
       "\t<tr><td>70 </td><td>41 </td><td>44 </td><td>1.8</td></tr>\n",
       "\t<tr><td>89 </td><td>28 </td><td>43 </td><td>1.8</td></tr>\n",
       "\t<tr><td>36 </td><td>49 </td><td>54 </td><td>2.9</td></tr>\n",
       "\t<tr><td>46 </td><td>42 </td><td>50 </td><td>2.2</td></tr>\n",
       "\t<tr><td>54 </td><td>45 </td><td>48 </td><td>2.4</td></tr>\n",
       "\t<tr><td>26 </td><td>52 </td><td>62 </td><td>2.9</td></tr>\n",
       "\t<tr><td>77 </td><td>29 </td><td>50 </td><td>2.1</td></tr>\n",
       "\t<tr><td>89 </td><td>29 </td><td>48 </td><td>2.4</td></tr>\n",
       "\t<tr><td>67 </td><td>43 </td><td>53 </td><td>2.4</td></tr>\n",
       "\t<tr><td>47 </td><td>38 </td><td>55 </td><td>2.2</td></tr>\n",
       "\t<tr><td>51 </td><td>34 </td><td>51 </td><td>2.3</td></tr>\n",
       "\t<tr><td>57 </td><td>53 </td><td>54 </td><td>2.2</td></tr>\n",
       "\t<tr><td>66 </td><td>36 </td><td>49 </td><td>2.0</td></tr>\n",
       "\t<tr><td>79 </td><td>33 </td><td>56 </td><td>2.5</td></tr>\n",
       "\t<tr><td>88 </td><td>29 </td><td>46 </td><td>1.9</td></tr>\n",
       "\t<tr><td>60 </td><td>33 </td><td>49 </td><td>2.1</td></tr>\n",
       "\t<tr><td>49 </td><td>55 </td><td>51 </td><td>2.4</td></tr>\n",
       "\t<tr><td>77 </td><td>29 </td><td>52 </td><td>2.3</td></tr>\n",
       "\t<tr><td>52 </td><td>44 </td><td>58 </td><td>2.9</td></tr>\n",
       "\t<tr><td>60 </td><td>43 </td><td>50 </td><td>2.3</td></tr>\n",
       "\t<tr><td>86 </td><td>23 </td><td>41 </td><td>1.8</td></tr>\n",
       "\t<tr><td>43 </td><td>47 </td><td>53 </td><td>2.5</td></tr>\n",
       "\t<tr><td>34 </td><td>55 </td><td>54 </td><td>2.5</td></tr>\n",
       "\t<tr><td>63 </td><td>25 </td><td>49 </td><td>2.0</td></tr>\n",
       "\t<tr><td>72 </td><td>32 </td><td>46 </td><td>2.6</td></tr>\n",
       "\t<tr><td>57 </td><td>32 </td><td>52 </td><td>2.4</td></tr>\n",
       "\t<tr><td>55 </td><td>42 </td><td>51 </td><td>2.7</td></tr>\n",
       "\t<tr><td>59 </td><td>33 </td><td>42 </td><td>2.0</td></tr>\n",
       "\t<tr><td>83 </td><td>36 </td><td>49 </td><td>1.8</td></tr>\n",
       "\t<tr><td>76 </td><td>31 </td><td>47 </td><td>2.0</td></tr>\n",
       "\t<tr><td>47 </td><td>40 </td><td>48 </td><td>2.2</td></tr>\n",
       "\t<tr><td>36 </td><td>53 </td><td>57 </td><td>2.8</td></tr>\n",
       "\t<tr><td>80 </td><td>34 </td><td>49 </td><td>2.2</td></tr>\n",
       "\t<tr><td>82 </td><td>29 </td><td>48 </td><td>2.5</td></tr>\n",
       "\t<tr><td>64 </td><td>30 </td><td>51 </td><td>2.4</td></tr>\n",
       "\t<tr><td>37 </td><td>47 </td><td>60 </td><td>2.4</td></tr>\n",
       "\t<tr><td>42 </td><td>47 </td><td>50 </td><td>2.6</td></tr>\n",
       "\t<tr><td>66 </td><td>43 </td><td>53 </td><td>2.3</td></tr>\n",
       "\t<tr><td>83 </td><td>22 </td><td>51 </td><td>2.0</td></tr>\n",
       "\t<tr><td>37 </td><td>44 </td><td>51 </td><td>2.6</td></tr>\n",
       "\t<tr><td>68 </td><td>45 </td><td>51 </td><td>2.2</td></tr>\n",
       "\t<tr><td>59 </td><td>37 </td><td>53 </td><td>2.1</td></tr>\n",
       "\t<tr><td>92 </td><td>28 </td><td>46 </td><td>1.8</td></tr>\n",
       "</tbody>\n",
       "</table>\n"
      ],
      "text/latex": [
       "\\begin{tabular}{r|llll}\n",
       " V1 & V2 & V3 & V4\\\\\n",
       "\\hline\n",
       "\t 48  & 50  & 51  & 2.3\\\\\n",
       "\t 57  & 36  & 46  & 2.3\\\\\n",
       "\t 66  & 40  & 48  & 2.2\\\\\n",
       "\t 70  & 41  & 44  & 1.8\\\\\n",
       "\t 89  & 28  & 43  & 1.8\\\\\n",
       "\t 36  & 49  & 54  & 2.9\\\\\n",
       "\t 46  & 42  & 50  & 2.2\\\\\n",
       "\t 54  & 45  & 48  & 2.4\\\\\n",
       "\t 26  & 52  & 62  & 2.9\\\\\n",
       "\t 77  & 29  & 50  & 2.1\\\\\n",
       "\t 89  & 29  & 48  & 2.4\\\\\n",
       "\t 67  & 43  & 53  & 2.4\\\\\n",
       "\t 47  & 38  & 55  & 2.2\\\\\n",
       "\t 51  & 34  & 51  & 2.3\\\\\n",
       "\t 57  & 53  & 54  & 2.2\\\\\n",
       "\t 66  & 36  & 49  & 2.0\\\\\n",
       "\t 79  & 33  & 56  & 2.5\\\\\n",
       "\t 88  & 29  & 46  & 1.9\\\\\n",
       "\t 60  & 33  & 49  & 2.1\\\\\n",
       "\t 49  & 55  & 51  & 2.4\\\\\n",
       "\t 77  & 29  & 52  & 2.3\\\\\n",
       "\t 52  & 44  & 58  & 2.9\\\\\n",
       "\t 60  & 43  & 50  & 2.3\\\\\n",
       "\t 86  & 23  & 41  & 1.8\\\\\n",
       "\t 43  & 47  & 53  & 2.5\\\\\n",
       "\t 34  & 55  & 54  & 2.5\\\\\n",
       "\t 63  & 25  & 49  & 2.0\\\\\n",
       "\t 72  & 32  & 46  & 2.6\\\\\n",
       "\t 57  & 32  & 52  & 2.4\\\\\n",
       "\t 55  & 42  & 51  & 2.7\\\\\n",
       "\t 59  & 33  & 42  & 2.0\\\\\n",
       "\t 83  & 36  & 49  & 1.8\\\\\n",
       "\t 76  & 31  & 47  & 2.0\\\\\n",
       "\t 47  & 40  & 48  & 2.2\\\\\n",
       "\t 36  & 53  & 57  & 2.8\\\\\n",
       "\t 80  & 34  & 49  & 2.2\\\\\n",
       "\t 82  & 29  & 48  & 2.5\\\\\n",
       "\t 64  & 30  & 51  & 2.4\\\\\n",
       "\t 37  & 47  & 60  & 2.4\\\\\n",
       "\t 42  & 47  & 50  & 2.6\\\\\n",
       "\t 66  & 43  & 53  & 2.3\\\\\n",
       "\t 83  & 22  & 51  & 2.0\\\\\n",
       "\t 37  & 44  & 51  & 2.6\\\\\n",
       "\t 68  & 45  & 51  & 2.2\\\\\n",
       "\t 59  & 37  & 53  & 2.1\\\\\n",
       "\t 92  & 28  & 46  & 1.8\\\\\n",
       "\\end{tabular}\n"
      ],
      "text/markdown": [
       "\n",
       "V1 | V2 | V3 | V4 | \n",
       "|---|---|---|---|---|---|---|---|---|---|---|---|---|---|---|---|---|---|---|---|---|---|---|---|---|---|---|---|---|---|---|---|---|---|---|---|---|---|---|---|---|---|---|---|---|---|\n",
       "| 48  | 50  | 51  | 2.3 | \n",
       "| 57  | 36  | 46  | 2.3 | \n",
       "| 66  | 40  | 48  | 2.2 | \n",
       "| 70  | 41  | 44  | 1.8 | \n",
       "| 89  | 28  | 43  | 1.8 | \n",
       "| 36  | 49  | 54  | 2.9 | \n",
       "| 46  | 42  | 50  | 2.2 | \n",
       "| 54  | 45  | 48  | 2.4 | \n",
       "| 26  | 52  | 62  | 2.9 | \n",
       "| 77  | 29  | 50  | 2.1 | \n",
       "| 89  | 29  | 48  | 2.4 | \n",
       "| 67  | 43  | 53  | 2.4 | \n",
       "| 47  | 38  | 55  | 2.2 | \n",
       "| 51  | 34  | 51  | 2.3 | \n",
       "| 57  | 53  | 54  | 2.2 | \n",
       "| 66  | 36  | 49  | 2.0 | \n",
       "| 79  | 33  | 56  | 2.5 | \n",
       "| 88  | 29  | 46  | 1.9 | \n",
       "| 60  | 33  | 49  | 2.1 | \n",
       "| 49  | 55  | 51  | 2.4 | \n",
       "| 77  | 29  | 52  | 2.3 | \n",
       "| 52  | 44  | 58  | 2.9 | \n",
       "| 60  | 43  | 50  | 2.3 | \n",
       "| 86  | 23  | 41  | 1.8 | \n",
       "| 43  | 47  | 53  | 2.5 | \n",
       "| 34  | 55  | 54  | 2.5 | \n",
       "| 63  | 25  | 49  | 2.0 | \n",
       "| 72  | 32  | 46  | 2.6 | \n",
       "| 57  | 32  | 52  | 2.4 | \n",
       "| 55  | 42  | 51  | 2.7 | \n",
       "| 59  | 33  | 42  | 2.0 | \n",
       "| 83  | 36  | 49  | 1.8 | \n",
       "| 76  | 31  | 47  | 2.0 | \n",
       "| 47  | 40  | 48  | 2.2 | \n",
       "| 36  | 53  | 57  | 2.8 | \n",
       "| 80  | 34  | 49  | 2.2 | \n",
       "| 82  | 29  | 48  | 2.5 | \n",
       "| 64  | 30  | 51  | 2.4 | \n",
       "| 37  | 47  | 60  | 2.4 | \n",
       "| 42  | 47  | 50  | 2.6 | \n",
       "| 66  | 43  | 53  | 2.3 | \n",
       "| 83  | 22  | 51  | 2.0 | \n",
       "| 37  | 44  | 51  | 2.6 | \n",
       "| 68  | 45  | 51  | 2.2 | \n",
       "| 59  | 37  | 53  | 2.1 | \n",
       "| 92  | 28  | 46  | 1.8 | \n",
       "\n",
       "\n"
      ],
      "text/plain": [
       "   V1 V2 V3 V4 \n",
       "1  48 50 51 2.3\n",
       "2  57 36 46 2.3\n",
       "3  66 40 48 2.2\n",
       "4  70 41 44 1.8\n",
       "5  89 28 43 1.8\n",
       "6  36 49 54 2.9\n",
       "7  46 42 50 2.2\n",
       "8  54 45 48 2.4\n",
       "9  26 52 62 2.9\n",
       "10 77 29 50 2.1\n",
       "11 89 29 48 2.4\n",
       "12 67 43 53 2.4\n",
       "13 47 38 55 2.2\n",
       "14 51 34 51 2.3\n",
       "15 57 53 54 2.2\n",
       "16 66 36 49 2.0\n",
       "17 79 33 56 2.5\n",
       "18 88 29 46 1.9\n",
       "19 60 33 49 2.1\n",
       "20 49 55 51 2.4\n",
       "21 77 29 52 2.3\n",
       "22 52 44 58 2.9\n",
       "23 60 43 50 2.3\n",
       "24 86 23 41 1.8\n",
       "25 43 47 53 2.5\n",
       "26 34 55 54 2.5\n",
       "27 63 25 49 2.0\n",
       "28 72 32 46 2.6\n",
       "29 57 32 52 2.4\n",
       "30 55 42 51 2.7\n",
       "31 59 33 42 2.0\n",
       "32 83 36 49 1.8\n",
       "33 76 31 47 2.0\n",
       "34 47 40 48 2.2\n",
       "35 36 53 57 2.8\n",
       "36 80 34 49 2.2\n",
       "37 82 29 48 2.5\n",
       "38 64 30 51 2.4\n",
       "39 37 47 60 2.4\n",
       "40 42 47 50 2.6\n",
       "41 66 43 53 2.3\n",
       "42 83 22 51 2.0\n",
       "43 37 44 51 2.6\n",
       "44 68 45 51 2.2\n",
       "45 59 37 53 2.1\n",
       "46 92 28 46 1.8"
      ]
     },
     "metadata": {},
     "output_type": "display_data"
    }
   ],
   "source": [
    "satisfaction"
   ]
  },
  {
   "cell_type": "code",
   "execution_count": 3,
   "metadata": {
    "collapsed": true
   },
   "outputs": [],
   "source": [
    "anxiety = satisfaction$V4"
   ]
  },
  {
   "cell_type": "code",
   "execution_count": 4,
   "metadata": {
    "collapsed": true
   },
   "outputs": [],
   "source": [
    "severity = satisfaction$V3"
   ]
  },
  {
   "cell_type": "code",
   "execution_count": 5,
   "metadata": {
    "collapsed": true
   },
   "outputs": [],
   "source": [
    "age = satisfaction$V2"
   ]
  },
  {
   "cell_type": "code",
   "execution_count": 6,
   "metadata": {
    "collapsed": true
   },
   "outputs": [],
   "source": [
    "satisfaction_var = satisfaction$V1"
   ]
  },
  {
   "cell_type": "code",
   "execution_count": 7,
   "metadata": {
    "collapsed": true
   },
   "outputs": [],
   "source": [
    "fit1 = lm(satisfaction_var~age+anxiety+severity, data = satisfaction)"
   ]
  },
  {
   "cell_type": "code",
   "execution_count": 8,
   "metadata": {
    "collapsed": true
   },
   "outputs": [],
   "source": [
    "x_0 = data.frame(age = 35, severity = 45, anxiety = 2.2)"
   ]
  },
  {
   "cell_type": "code",
   "execution_count": 9,
   "metadata": {},
   "outputs": [
    {
     "data": {
      "text/html": [
       "<strong>1:</strong> 69.0102862248264"
      ],
      "text/latex": [
       "\\textbf{1:} 69.0102862248264"
      ],
      "text/markdown": [
       "**1:** 69.0102862248264"
      ],
      "text/plain": [
       "       1 \n",
       "69.01029 "
      ]
     },
     "metadata": {},
     "output_type": "display_data"
    }
   ],
   "source": [
    "predict(fit1, x_0)"
   ]
  },
  {
   "cell_type": "markdown",
   "metadata": {},
   "source": [
    "CI for the mean of satisfaction_var (the Y variable) at x = x_0"
   ]
  },
  {
   "cell_type": "code",
   "execution_count": 11,
   "metadata": {},
   "outputs": [
    {
     "data": {
      "text/html": [
       "<table>\n",
       "<thead><tr><th></th><th scope=col>fit</th><th scope=col>lwr</th><th scope=col>upr</th></tr></thead>\n",
       "<tbody>\n",
       "\t<tr><th scope=row>1</th><td>69.01029</td><td>64.52854</td><td>73.49204</td></tr>\n",
       "</tbody>\n",
       "</table>\n"
      ],
      "text/latex": [
       "\\begin{tabular}{r|lll}\n",
       "  & fit & lwr & upr\\\\\n",
       "\\hline\n",
       "\t1 & 69.01029 & 64.52854 & 73.49204\\\\\n",
       "\\end{tabular}\n"
      ],
      "text/markdown": [
       "\n",
       "| <!--/--> | fit | lwr | upr | \n",
       "|---|\n",
       "| 1 | 69.01029 | 64.52854 | 73.49204 | \n",
       "\n",
       "\n"
      ],
      "text/plain": [
       "  fit      lwr      upr     \n",
       "1 69.01029 64.52854 73.49204"
      ]
     },
     "metadata": {},
     "output_type": "display_data"
    }
   ],
   "source": [
    "predict(fit1, x_0, interval = \"confidence\", level = 0.9)"
   ]
  },
  {
   "cell_type": "markdown",
   "metadata": {},
   "source": [
    "90% of satisfaction lies between 64.52854 and 73.49204 with an average of 69.01029"
   ]
  },
  {
   "cell_type": "code",
   "execution_count": 12,
   "metadata": {},
   "outputs": [
    {
     "data": {
      "text/html": [
       "<table>\n",
       "<thead><tr><th></th><th scope=col>fit</th><th scope=col>lwr</th><th scope=col>upr</th></tr></thead>\n",
       "<tbody>\n",
       "\t<tr><th scope=row>1</th><td>69.01029</td><td>51.50965</td><td>86.51092</td></tr>\n",
       "</tbody>\n",
       "</table>\n"
      ],
      "text/latex": [
       "\\begin{tabular}{r|lll}\n",
       "  & fit & lwr & upr\\\\\n",
       "\\hline\n",
       "\t1 & 69.01029 & 51.50965 & 86.51092\\\\\n",
       "\\end{tabular}\n"
      ],
      "text/markdown": [
       "\n",
       "| <!--/--> | fit | lwr | upr | \n",
       "|---|\n",
       "| 1 | 69.01029 | 51.50965 | 86.51092 | \n",
       "\n",
       "\n"
      ],
      "text/plain": [
       "  fit      lwr      upr     \n",
       "1 69.01029 51.50965 86.51092"
      ]
     },
     "metadata": {},
     "output_type": "display_data"
    }
   ],
   "source": [
    "predict(fit1, x_0, interval = \"prediction\", level = 0.9)"
   ]
  },
  {
   "cell_type": "markdown",
   "metadata": {},
   "source": [
    "We can expect the next value of patient's satisfaction to lie between 51.50965 and 86.51092."
   ]
  },
  {
   "cell_type": "code",
   "execution_count": null,
   "metadata": {
    "collapsed": true
   },
   "outputs": [],
   "source": []
  }
 ],
 "metadata": {
  "kernelspec": {
   "display_name": "R",
   "language": "R",
   "name": "ir"
  },
  "language_info": {
   "codemirror_mode": "r",
   "file_extension": ".r",
   "mimetype": "text/x-r-source",
   "name": "R",
   "pygments_lexer": "r",
   "version": "3.4.2"
  }
 },
 "nbformat": 4,
 "nbformat_minor": 2
}
