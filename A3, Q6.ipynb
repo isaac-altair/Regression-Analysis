{
 "cells": [
  {
   "cell_type": "code",
   "execution_count": 17,
   "metadata": {
    "collapsed": true
   },
   "outputs": [],
   "source": [
    "satisfaction = read.table(\"/home/isaac/R Projects, STAC67/A2, Q5\")"
   ]
  },
  {
   "cell_type": "code",
   "execution_count": 18,
   "metadata": {},
   "outputs": [
    {
     "data": {
      "text/html": [
       "<table>\n",
       "<thead><tr><th scope=col>V1</th><th scope=col>V2</th><th scope=col>V3</th><th scope=col>V4</th></tr></thead>\n",
       "<tbody>\n",
       "\t<tr><td>48 </td><td>50 </td><td>51 </td><td>2.3</td></tr>\n",
       "\t<tr><td>57 </td><td>36 </td><td>46 </td><td>2.3</td></tr>\n",
       "\t<tr><td>66 </td><td>40 </td><td>48 </td><td>2.2</td></tr>\n",
       "\t<tr><td>70 </td><td>41 </td><td>44 </td><td>1.8</td></tr>\n",
       "\t<tr><td>89 </td><td>28 </td><td>43 </td><td>1.8</td></tr>\n",
       "\t<tr><td>36 </td><td>49 </td><td>54 </td><td>2.9</td></tr>\n",
       "\t<tr><td>46 </td><td>42 </td><td>50 </td><td>2.2</td></tr>\n",
       "\t<tr><td>54 </td><td>45 </td><td>48 </td><td>2.4</td></tr>\n",
       "\t<tr><td>26 </td><td>52 </td><td>62 </td><td>2.9</td></tr>\n",
       "\t<tr><td>77 </td><td>29 </td><td>50 </td><td>2.1</td></tr>\n",
       "\t<tr><td>89 </td><td>29 </td><td>48 </td><td>2.4</td></tr>\n",
       "\t<tr><td>67 </td><td>43 </td><td>53 </td><td>2.4</td></tr>\n",
       "\t<tr><td>47 </td><td>38 </td><td>55 </td><td>2.2</td></tr>\n",
       "\t<tr><td>51 </td><td>34 </td><td>51 </td><td>2.3</td></tr>\n",
       "\t<tr><td>57 </td><td>53 </td><td>54 </td><td>2.2</td></tr>\n",
       "\t<tr><td>66 </td><td>36 </td><td>49 </td><td>2.0</td></tr>\n",
       "\t<tr><td>79 </td><td>33 </td><td>56 </td><td>2.5</td></tr>\n",
       "\t<tr><td>88 </td><td>29 </td><td>46 </td><td>1.9</td></tr>\n",
       "\t<tr><td>60 </td><td>33 </td><td>49 </td><td>2.1</td></tr>\n",
       "\t<tr><td>49 </td><td>55 </td><td>51 </td><td>2.4</td></tr>\n",
       "\t<tr><td>77 </td><td>29 </td><td>52 </td><td>2.3</td></tr>\n",
       "\t<tr><td>52 </td><td>44 </td><td>58 </td><td>2.9</td></tr>\n",
       "\t<tr><td>60 </td><td>43 </td><td>50 </td><td>2.3</td></tr>\n",
       "\t<tr><td>86 </td><td>23 </td><td>41 </td><td>1.8</td></tr>\n",
       "\t<tr><td>43 </td><td>47 </td><td>53 </td><td>2.5</td></tr>\n",
       "\t<tr><td>34 </td><td>55 </td><td>54 </td><td>2.5</td></tr>\n",
       "\t<tr><td>63 </td><td>25 </td><td>49 </td><td>2.0</td></tr>\n",
       "\t<tr><td>72 </td><td>32 </td><td>46 </td><td>2.6</td></tr>\n",
       "\t<tr><td>57 </td><td>32 </td><td>52 </td><td>2.4</td></tr>\n",
       "\t<tr><td>55 </td><td>42 </td><td>51 </td><td>2.7</td></tr>\n",
       "\t<tr><td>59 </td><td>33 </td><td>42 </td><td>2.0</td></tr>\n",
       "\t<tr><td>83 </td><td>36 </td><td>49 </td><td>1.8</td></tr>\n",
       "\t<tr><td>76 </td><td>31 </td><td>47 </td><td>2.0</td></tr>\n",
       "\t<tr><td>47 </td><td>40 </td><td>48 </td><td>2.2</td></tr>\n",
       "\t<tr><td>36 </td><td>53 </td><td>57 </td><td>2.8</td></tr>\n",
       "\t<tr><td>80 </td><td>34 </td><td>49 </td><td>2.2</td></tr>\n",
       "\t<tr><td>82 </td><td>29 </td><td>48 </td><td>2.5</td></tr>\n",
       "\t<tr><td>64 </td><td>30 </td><td>51 </td><td>2.4</td></tr>\n",
       "\t<tr><td>37 </td><td>47 </td><td>60 </td><td>2.4</td></tr>\n",
       "\t<tr><td>42 </td><td>47 </td><td>50 </td><td>2.6</td></tr>\n",
       "\t<tr><td>66 </td><td>43 </td><td>53 </td><td>2.3</td></tr>\n",
       "\t<tr><td>83 </td><td>22 </td><td>51 </td><td>2.0</td></tr>\n",
       "\t<tr><td>37 </td><td>44 </td><td>51 </td><td>2.6</td></tr>\n",
       "\t<tr><td>68 </td><td>45 </td><td>51 </td><td>2.2</td></tr>\n",
       "\t<tr><td>59 </td><td>37 </td><td>53 </td><td>2.1</td></tr>\n",
       "\t<tr><td>92 </td><td>28 </td><td>46 </td><td>1.8</td></tr>\n",
       "</tbody>\n",
       "</table>\n"
      ],
      "text/latex": [
       "\\begin{tabular}{r|llll}\n",
       " V1 & V2 & V3 & V4\\\\\n",
       "\\hline\n",
       "\t 48  & 50  & 51  & 2.3\\\\\n",
       "\t 57  & 36  & 46  & 2.3\\\\\n",
       "\t 66  & 40  & 48  & 2.2\\\\\n",
       "\t 70  & 41  & 44  & 1.8\\\\\n",
       "\t 89  & 28  & 43  & 1.8\\\\\n",
       "\t 36  & 49  & 54  & 2.9\\\\\n",
       "\t 46  & 42  & 50  & 2.2\\\\\n",
       "\t 54  & 45  & 48  & 2.4\\\\\n",
       "\t 26  & 52  & 62  & 2.9\\\\\n",
       "\t 77  & 29  & 50  & 2.1\\\\\n",
       "\t 89  & 29  & 48  & 2.4\\\\\n",
       "\t 67  & 43  & 53  & 2.4\\\\\n",
       "\t 47  & 38  & 55  & 2.2\\\\\n",
       "\t 51  & 34  & 51  & 2.3\\\\\n",
       "\t 57  & 53  & 54  & 2.2\\\\\n",
       "\t 66  & 36  & 49  & 2.0\\\\\n",
       "\t 79  & 33  & 56  & 2.5\\\\\n",
       "\t 88  & 29  & 46  & 1.9\\\\\n",
       "\t 60  & 33  & 49  & 2.1\\\\\n",
       "\t 49  & 55  & 51  & 2.4\\\\\n",
       "\t 77  & 29  & 52  & 2.3\\\\\n",
       "\t 52  & 44  & 58  & 2.9\\\\\n",
       "\t 60  & 43  & 50  & 2.3\\\\\n",
       "\t 86  & 23  & 41  & 1.8\\\\\n",
       "\t 43  & 47  & 53  & 2.5\\\\\n",
       "\t 34  & 55  & 54  & 2.5\\\\\n",
       "\t 63  & 25  & 49  & 2.0\\\\\n",
       "\t 72  & 32  & 46  & 2.6\\\\\n",
       "\t 57  & 32  & 52  & 2.4\\\\\n",
       "\t 55  & 42  & 51  & 2.7\\\\\n",
       "\t 59  & 33  & 42  & 2.0\\\\\n",
       "\t 83  & 36  & 49  & 1.8\\\\\n",
       "\t 76  & 31  & 47  & 2.0\\\\\n",
       "\t 47  & 40  & 48  & 2.2\\\\\n",
       "\t 36  & 53  & 57  & 2.8\\\\\n",
       "\t 80  & 34  & 49  & 2.2\\\\\n",
       "\t 82  & 29  & 48  & 2.5\\\\\n",
       "\t 64  & 30  & 51  & 2.4\\\\\n",
       "\t 37  & 47  & 60  & 2.4\\\\\n",
       "\t 42  & 47  & 50  & 2.6\\\\\n",
       "\t 66  & 43  & 53  & 2.3\\\\\n",
       "\t 83  & 22  & 51  & 2.0\\\\\n",
       "\t 37  & 44  & 51  & 2.6\\\\\n",
       "\t 68  & 45  & 51  & 2.2\\\\\n",
       "\t 59  & 37  & 53  & 2.1\\\\\n",
       "\t 92  & 28  & 46  & 1.8\\\\\n",
       "\\end{tabular}\n"
      ],
      "text/markdown": [
       "\n",
       "V1 | V2 | V3 | V4 | \n",
       "|---|---|---|---|---|---|---|---|---|---|---|---|---|---|---|---|---|---|---|---|---|---|---|---|---|---|---|---|---|---|---|---|---|---|---|---|---|---|---|---|---|---|---|---|---|---|\n",
       "| 48  | 50  | 51  | 2.3 | \n",
       "| 57  | 36  | 46  | 2.3 | \n",
       "| 66  | 40  | 48  | 2.2 | \n",
       "| 70  | 41  | 44  | 1.8 | \n",
       "| 89  | 28  | 43  | 1.8 | \n",
       "| 36  | 49  | 54  | 2.9 | \n",
       "| 46  | 42  | 50  | 2.2 | \n",
       "| 54  | 45  | 48  | 2.4 | \n",
       "| 26  | 52  | 62  | 2.9 | \n",
       "| 77  | 29  | 50  | 2.1 | \n",
       "| 89  | 29  | 48  | 2.4 | \n",
       "| 67  | 43  | 53  | 2.4 | \n",
       "| 47  | 38  | 55  | 2.2 | \n",
       "| 51  | 34  | 51  | 2.3 | \n",
       "| 57  | 53  | 54  | 2.2 | \n",
       "| 66  | 36  | 49  | 2.0 | \n",
       "| 79  | 33  | 56  | 2.5 | \n",
       "| 88  | 29  | 46  | 1.9 | \n",
       "| 60  | 33  | 49  | 2.1 | \n",
       "| 49  | 55  | 51  | 2.4 | \n",
       "| 77  | 29  | 52  | 2.3 | \n",
       "| 52  | 44  | 58  | 2.9 | \n",
       "| 60  | 43  | 50  | 2.3 | \n",
       "| 86  | 23  | 41  | 1.8 | \n",
       "| 43  | 47  | 53  | 2.5 | \n",
       "| 34  | 55  | 54  | 2.5 | \n",
       "| 63  | 25  | 49  | 2.0 | \n",
       "| 72  | 32  | 46  | 2.6 | \n",
       "| 57  | 32  | 52  | 2.4 | \n",
       "| 55  | 42  | 51  | 2.7 | \n",
       "| 59  | 33  | 42  | 2.0 | \n",
       "| 83  | 36  | 49  | 1.8 | \n",
       "| 76  | 31  | 47  | 2.0 | \n",
       "| 47  | 40  | 48  | 2.2 | \n",
       "| 36  | 53  | 57  | 2.8 | \n",
       "| 80  | 34  | 49  | 2.2 | \n",
       "| 82  | 29  | 48  | 2.5 | \n",
       "| 64  | 30  | 51  | 2.4 | \n",
       "| 37  | 47  | 60  | 2.4 | \n",
       "| 42  | 47  | 50  | 2.6 | \n",
       "| 66  | 43  | 53  | 2.3 | \n",
       "| 83  | 22  | 51  | 2.0 | \n",
       "| 37  | 44  | 51  | 2.6 | \n",
       "| 68  | 45  | 51  | 2.2 | \n",
       "| 59  | 37  | 53  | 2.1 | \n",
       "| 92  | 28  | 46  | 1.8 | \n",
       "\n",
       "\n"
      ],
      "text/plain": [
       "   V1 V2 V3 V4 \n",
       "1  48 50 51 2.3\n",
       "2  57 36 46 2.3\n",
       "3  66 40 48 2.2\n",
       "4  70 41 44 1.8\n",
       "5  89 28 43 1.8\n",
       "6  36 49 54 2.9\n",
       "7  46 42 50 2.2\n",
       "8  54 45 48 2.4\n",
       "9  26 52 62 2.9\n",
       "10 77 29 50 2.1\n",
       "11 89 29 48 2.4\n",
       "12 67 43 53 2.4\n",
       "13 47 38 55 2.2\n",
       "14 51 34 51 2.3\n",
       "15 57 53 54 2.2\n",
       "16 66 36 49 2.0\n",
       "17 79 33 56 2.5\n",
       "18 88 29 46 1.9\n",
       "19 60 33 49 2.1\n",
       "20 49 55 51 2.4\n",
       "21 77 29 52 2.3\n",
       "22 52 44 58 2.9\n",
       "23 60 43 50 2.3\n",
       "24 86 23 41 1.8\n",
       "25 43 47 53 2.5\n",
       "26 34 55 54 2.5\n",
       "27 63 25 49 2.0\n",
       "28 72 32 46 2.6\n",
       "29 57 32 52 2.4\n",
       "30 55 42 51 2.7\n",
       "31 59 33 42 2.0\n",
       "32 83 36 49 1.8\n",
       "33 76 31 47 2.0\n",
       "34 47 40 48 2.2\n",
       "35 36 53 57 2.8\n",
       "36 80 34 49 2.2\n",
       "37 82 29 48 2.5\n",
       "38 64 30 51 2.4\n",
       "39 37 47 60 2.4\n",
       "40 42 47 50 2.6\n",
       "41 66 43 53 2.3\n",
       "42 83 22 51 2.0\n",
       "43 37 44 51 2.6\n",
       "44 68 45 51 2.2\n",
       "45 59 37 53 2.1\n",
       "46 92 28 46 1.8"
      ]
     },
     "metadata": {},
     "output_type": "display_data"
    }
   ],
   "source": [
    "satisfaction"
   ]
  },
  {
   "cell_type": "code",
   "execution_count": 19,
   "metadata": {
    "collapsed": true
   },
   "outputs": [],
   "source": [
    "anxiety = satisfaction$V4"
   ]
  },
  {
   "cell_type": "code",
   "execution_count": 20,
   "metadata": {
    "collapsed": true
   },
   "outputs": [],
   "source": [
    "severity = satisfaction$V3"
   ]
  },
  {
   "cell_type": "code",
   "execution_count": 21,
   "metadata": {
    "collapsed": true
   },
   "outputs": [],
   "source": [
    "age = satisfaction$V2"
   ]
  },
  {
   "cell_type": "code",
   "execution_count": 22,
   "metadata": {
    "collapsed": true
   },
   "outputs": [],
   "source": [
    "satisfaction_var = satisfaction$V1"
   ]
  },
  {
   "cell_type": "code",
   "execution_count": 29,
   "metadata": {
    "collapsed": true
   },
   "outputs": [],
   "source": [
    "fit1 = lm(satisfaction_var~age+anxiety+severity, data = satisfaction)"
   ]
  },
  {
   "cell_type": "code",
   "execution_count": 30,
   "metadata": {},
   "outputs": [
    {
     "data": {
      "text/html": [
       "<table>\n",
       "<thead><tr><th></th><th scope=col>Df</th><th scope=col>Sum Sq</th><th scope=col>Mean Sq</th><th scope=col>F value</th><th scope=col>Pr(&gt;F)</th></tr></thead>\n",
       "<tbody>\n",
       "\t<tr><th scope=row>age</th><td> 1          </td><td>8275.38885  </td><td>8275.38885  </td><td>81.8026275  </td><td>2.059138e-11</td></tr>\n",
       "\t<tr><th scope=row>anxiety</th><td> 1          </td><td> 763.41576  </td><td> 763.41576  </td><td> 7.5464025  </td><td>8.819116e-03</td></tr>\n",
       "\t<tr><th scope=row>severity</th><td> 1          </td><td>  81.65905  </td><td>  81.65905  </td><td> 0.8072038  </td><td>3.740702e-01</td></tr>\n",
       "\t<tr><th scope=row>Residuals</th><td>42          </td><td>4248.84068  </td><td> 101.16287  </td><td>        NA  </td><td>          NA</td></tr>\n",
       "</tbody>\n",
       "</table>\n"
      ],
      "text/latex": [
       "\\begin{tabular}{r|lllll}\n",
       "  & Df & Sum Sq & Mean Sq & F value & Pr(>F)\\\\\n",
       "\\hline\n",
       "\tage &  1           & 8275.38885   & 8275.38885   & 81.8026275   & 2.059138e-11\\\\\n",
       "\tanxiety &  1           &  763.41576   &  763.41576   &  7.5464025   & 8.819116e-03\\\\\n",
       "\tseverity &  1           &   81.65905   &   81.65905   &  0.8072038   & 3.740702e-01\\\\\n",
       "\tResiduals & 42           & 4248.84068   &  101.16287   &         NA   &           NA\\\\\n",
       "\\end{tabular}\n"
      ],
      "text/markdown": [
       "\n",
       "| <!--/--> | Df | Sum Sq | Mean Sq | F value | Pr(>F) | \n",
       "|---|---|---|---|\n",
       "| age |  1           | 8275.38885   | 8275.38885   | 81.8026275   | 2.059138e-11 | \n",
       "| anxiety |  1           |  763.41576   |  763.41576   |  7.5464025   | 8.819116e-03 | \n",
       "| severity |  1           |   81.65905   |   81.65905   |  0.8072038   | 3.740702e-01 | \n",
       "| Residuals | 42           | 4248.84068   |  101.16287   |         NA   |           NA | \n",
       "\n",
       "\n"
      ],
      "text/plain": [
       "          Df Sum Sq     Mean Sq    F value    Pr(>F)      \n",
       "age        1 8275.38885 8275.38885 81.8026275 2.059138e-11\n",
       "anxiety    1  763.41576  763.41576  7.5464025 8.819116e-03\n",
       "severity   1   81.65905   81.65905  0.8072038 3.740702e-01\n",
       "Residuals 42 4248.84068  101.16287         NA           NA"
      ]
     },
     "metadata": {},
     "output_type": "display_data"
    }
   ],
   "source": [
    "anova(fit1)"
   ]
  },
  {
   "cell_type": "code",
   "execution_count": 31,
   "metadata": {},
   "outputs": [
    {
     "data": {
      "text/plain": [
       "\n",
       "Call:\n",
       "lm(formula = satisfaction_var ~ age + anxiety + severity, data = satisfaction)\n",
       "\n",
       "Residuals:\n",
       "     Min       1Q   Median       3Q      Max \n",
       "-18.3524  -6.4230   0.5196   8.3715  17.1601 \n",
       "\n",
       "Coefficients:\n",
       "            Estimate Std. Error t value Pr(>|t|)    \n",
       "(Intercept) 158.4913    18.1259   8.744 5.26e-11 ***\n",
       "age          -1.1416     0.2148  -5.315 3.81e-06 ***\n",
       "anxiety     -13.4702     7.0997  -1.897   0.0647 .  \n",
       "severity     -0.4420     0.4920  -0.898   0.3741    \n",
       "---\n",
       "Signif. codes:  0 ‘***’ 0.001 ‘**’ 0.01 ‘*’ 0.05 ‘.’ 0.1 ‘ ’ 1\n",
       "\n",
       "Residual standard error: 10.06 on 42 degrees of freedom\n",
       "Multiple R-squared:  0.6822,\tAdjusted R-squared:  0.6595 \n",
       "F-statistic: 30.05 on 3 and 42 DF,  p-value: 1.542e-10\n"
      ]
     },
     "metadata": {},
     "output_type": "display_data"
    }
   ],
   "source": [
    "summary(fit1)"
   ]
  },
  {
   "cell_type": "markdown",
   "metadata": {},
   "source": [
    "# Conclusions:\n",
    "\n",
    "H_0 : beta_1 = beta_2 = beta_3 = 0\n",
    "\n",
    "H_a : not all beta_k = 0 s.t. k = 1,2,3\n",
    "\n",
    "\n",
    "From summary(fit1), we have F-statistic = 30.05. Then, F(0.90, 3, 42) = 2.2191. If F-statistic <= 2.2191, conclude H_0; o/w, conclude H_a. 30.05 > 2.2191, reject the null hypothesis. Therefore, some of the beta_k = 0 (k = 1, 2, 3). Additionally, p-value = 1.542e-10 supports our argument of rejecting the null hypothesis.\n"
   ]
  },
  {
   "cell_type": "code",
   "execution_count": 33,
   "metadata": {},
   "outputs": [
    {
     "data": {
      "text/html": [
       "<dl class=dl-horizontal>\n",
       "\t<dt>(Intercept)</dt>\n",
       "\t\t<dd>158.491251666617</dd>\n",
       "\t<dt>age</dt>\n",
       "\t\t<dd>-1.14161184653652</dd>\n",
       "\t<dt>anxiety</dt>\n",
       "\t\t<dd>-13.4701631906724</dd>\n",
       "\t<dt>severity</dt>\n",
       "\t\t<dd>-0.442004262078523</dd>\n",
       "</dl>\n"
      ],
      "text/latex": [
       "\\begin{description*}\n",
       "\\item[(Intercept)] 158.491251666617\n",
       "\\item[age] -1.14161184653652\n",
       "\\item[anxiety] -13.4701631906724\n",
       "\\item[severity] -0.442004262078523\n",
       "\\end{description*}\n"
      ],
      "text/markdown": [
       "(Intercept)\n",
       ":   158.491251666617age\n",
       ":   -1.14161184653652anxiety\n",
       ":   -13.4701631906724severity\n",
       ":   -0.442004262078523\n",
       "\n"
      ],
      "text/plain": [
       "(Intercept)         age     anxiety    severity \n",
       "158.4912517  -1.1416118 -13.4701632  -0.4420043 "
      ]
     },
     "metadata": {},
     "output_type": "display_data"
    }
   ],
   "source": [
    "coefficients(fit1)"
   ]
  },
  {
   "cell_type": "code",
   "execution_count": 34,
   "metadata": {},
   "outputs": [
    {
     "data": {
      "text/html": [
       "<table>\n",
       "<thead><tr><th></th><th scope=col>5 %</th><th scope=col>95 %</th></tr></thead>\n",
       "<tbody>\n",
       "\t<tr><th scope=row>(Intercept)</th><td>128.004370 </td><td>188.9781330</td></tr>\n",
       "\t<tr><th scope=row>V2</th><td> -1.502893 </td><td> -0.7803305</td></tr>\n",
       "\t<tr><th scope=row>V3</th><td> -1.269467 </td><td>  0.3854587</td></tr>\n",
       "\t<tr><th scope=row>V4</th><td>-25.411454 </td><td> -1.5288719</td></tr>\n",
       "</tbody>\n",
       "</table>\n"
      ],
      "text/latex": [
       "\\begin{tabular}{r|ll}\n",
       "  & 5 \\% & 95 \\%\\\\\n",
       "\\hline\n",
       "\t(Intercept) & 128.004370  & 188.9781330\\\\\n",
       "\tV2 &  -1.502893  &  -0.7803305\\\\\n",
       "\tV3 &  -1.269467  &   0.3854587\\\\\n",
       "\tV4 & -25.411454  &  -1.5288719\\\\\n",
       "\\end{tabular}\n"
      ],
      "text/markdown": [
       "\n",
       "| <!--/--> | 5 % | 95 % | \n",
       "|---|---|---|---|\n",
       "| (Intercept) | 128.004370  | 188.9781330 | \n",
       "| V2 |  -1.502893  |  -0.7803305 | \n",
       "| V3 |  -1.269467  |   0.3854587 | \n",
       "| V4 | -25.411454  |  -1.5288719 | \n",
       "\n",
       "\n"
      ],
      "text/plain": [
       "            5 %        95 %       \n",
       "(Intercept) 128.004370 188.9781330\n",
       "V2           -1.502893  -0.7803305\n",
       "V3           -1.269467   0.3854587\n",
       "V4          -25.411454  -1.5288719"
      ]
     },
     "metadata": {},
     "output_type": "display_data"
    }
   ],
   "source": [
    "confint(fit, level = 0.90)"
   ]
  },
  {
   "cell_type": "markdown",
   "metadata": {},
   "source": [
    "- b1_st_e = 0.2148\n",
    "- b2_st_e = 0.4920\n",
    "- b3_st_e = 7.0097\n",
    "\n",
    "\n",
    "- t(1 - 0.1/(2x3), 42) = 2.1995\n",
    "\n",
    "- beta_1: -1.1416 (+-) 2.1995 x 0.2148 => -1.5968804 <= beta_1 <= -0.6863432\n",
    "- beta_2: -0.4420043 (+-) 2.1995 x 0.4920 => -1.524183 <= beta_2 <= 0.6401497\n",
    "- beta_3: -13.4701632 (+-) 2.1995 x 7.0997 => -29.08595335 <= beta_3 <= 2.14562695\n",
    "\n",
    "- R_Squared (aka, coefficient of multiple determination) = 0.6822\n",
    "=> 68.22% is the proportion of variability in satisfaction explained by the regression model with patient's age (V2), severity of illness (V3), and anxiety level (V4)."
   ]
  },
  {
   "cell_type": "code",
   "execution_count": null,
   "metadata": {
    "collapsed": true
   },
   "outputs": [],
   "source": []
  }
 ],
 "metadata": {
  "kernelspec": {
   "display_name": "R",
   "language": "R",
   "name": "ir"
  },
  "language_info": {
   "codemirror_mode": "r",
   "file_extension": ".r",
   "mimetype": "text/x-r-source",
   "name": "R",
   "pygments_lexer": "r",
   "version": "3.4.2"
  }
 },
 "nbformat": 4,
 "nbformat_minor": 2
}
